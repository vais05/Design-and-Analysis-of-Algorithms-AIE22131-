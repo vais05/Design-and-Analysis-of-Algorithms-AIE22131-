{
 "cells": [
  {
   "cell_type": "code",
   "execution_count": 3,
   "id": "2b97f19b",
   "metadata": {},
   "outputs": [
    {
     "name": "stdout",
     "output_type": "stream",
     "text": [
      "Pairs with sum 10 found: [(8, 2), (7, 3)]\n"
     ]
    }
   ],
   "source": [
    "#1. Given an unsorted integer array, find a pair with the given sum in it.\n",
    "def find_pairs_with_sum(arr, target_sum):\n",
    "    pairs = []\n",
    "    seen = set()\n",
    "    for num in arr:\n",
    "        complement = target_sum - num\n",
    "        if complement in seen:\n",
    "            pairs.append((complement, num))\n",
    "        seen.add(num)\n",
    "    return pairs if pairs else None\n",
    "\n",
    "arr = [8, 7, 2, 5, 3, 1]\n",
    "target_sum = 10\n",
    "pairs = find_pairs_with_sum(arr, target_sum)\n",
    "if pairs:\n",
    "    print(\"Pairs with sum\", target_sum, \"found:\", pairs)\n",
    "else:\n",
    "    print(\"Pairs with sum\", target_sum, \"not found\")\n",
    "\n"
   ]
  },
  {
   "cell_type": "code",
   "execution_count": 6,
   "id": "0130a282",
   "metadata": {},
   "outputs": [
    {
     "name": "stdout",
     "output_type": "stream",
     "text": [
      "Pair with maximum product: (9, 8, 72) product is 72\n"
     ]
    }
   ],
   "source": [
    "'''2.Given an unsorted integer array containing both positive and negative numbers, find a\n",
    "pair with maximum product in it.\n",
    "Input:\n",
    "If we have an array say arr = [1, 7, 4, 2, 8, 6, 3, 9, 5]\n",
    "Then in this array first two bigger numbers are 9 and 8.\n",
    "So, product is 9*8=72 which is maximum product'''\n",
    "\n",
    "def max_product_pair(arr):\n",
    "    if len(arr) < 2:\n",
    "        return None\n",
    "\n",
    "    max1 = max2 = float('-inf')\n",
    "    min1 = min2 = float('inf')\n",
    "\n",
    "    for num in arr:\n",
    "        if num > max1:\n",
    "            max2 = max1\n",
    "            max1 = num\n",
    "        elif num > max2:\n",
    "            max2 = num\n",
    "\n",
    "        if num < min1:\n",
    "            min2 = min1\n",
    "            min1 = num\n",
    "        elif num < min2:\n",
    "            min2 = num\n",
    "\n",
    "    if max1 * max2 > min1 * min2:\n",
    "        return max1, max2, max1 * max2\n",
    "    else:\n",
    "        return min1, min2, min1 * min2\n",
    "\n",
    "arr = [1, 7, 4, 2, 8, 6, 3, 9, 5]\n",
    "pair = max_product_pair(arr)\n",
    "if pair:\n",
    "    print(\"Pair with maximum product:\", pair,\"product is\", pair[2])\n",
    "else:\n",
    "    print(\"No pair found\")\n"
   ]
  },
  {
   "cell_type": "code",
   "execution_count": 9,
   "id": "5245e725",
   "metadata": {},
   "outputs": [
    {
     "name": "stdout",
     "output_type": "stream",
     "text": [
      "Sorted array 1: [3, 5, 6, 7, 8, 9]\n",
      "Sorted array 2: [3, 5, 6, 7, 8, 9]\n"
     ]
    }
   ],
   "source": [
    "#3.Given an array where all its elements are sorted except two swapped elements, sort it in linear time. Assume there are no duplicates in the array.\n",
    "def sort_array(arr):\n",
    "    # Find the positions where elements are not in the correct order\n",
    "    first_wrong = None\n",
    "    second_wrong = None\n",
    "    for i in range(len(arr) - 1):\n",
    "        if arr[i] > arr[i + 1]:\n",
    "            if first_wrong is None:\n",
    "                first_wrong = i\n",
    "            else:\n",
    "                second_wrong = i + 1\n",
    "                break\n",
    "\n",
    "    # Swap the elements at the wrong positions\n",
    "    arr[first_wrong], arr[second_wrong] = arr[second_wrong], arr[first_wrong]\n",
    "\n",
    "    return arr\n",
    "\n",
    "input1 = [3, 8, 6, 7, 5, 9]\n",
    "input2 = [3, 5, 6, 9, 8, 7]\n",
    "\n",
    "output1 = sort_array(input1)\n",
    "output2 = sort_array(input2)\n",
    "\n",
    "print(\"Sorted array 1:\", output1)\n",
    "print(\"Sorted array 2:\", output2)\n"
   ]
  },
  {
   "cell_type": "code",
   "execution_count": 10,
   "id": "65d80213",
   "metadata": {},
   "outputs": [
    {
     "name": "stdout",
     "output_type": "stream",
     "text": [
      "Segregated array: [0, 0, 0, 0, 1, 1, 1, 1]\n"
     ]
    }
   ],
   "source": [
    "#4.Given a binary array of 0’s and 1’s. Segregate all 0’s followed by 1.\n",
    "\n",
    "def segregate_zeros_and_ones(arr):\n",
    "    left = 0\n",
    "    right = len(arr) - 1\n",
    "\n",
    "    while left < right:\n",
    "        # Move left pointer to the right until it points to a 1\n",
    "        while arr[left] == 0 and left < right:\n",
    "            left += 1\n",
    "\n",
    "        # Move right pointer to the left until it points to a 0\n",
    "        while arr[right] == 1 and left < right:\n",
    "            right -= 1\n",
    "\n",
    "        # Swap 0 at left pointer with 1 at right pointer\n",
    "        if left < right:\n",
    "            arr[left] = 0\n",
    "            arr[right] = 1\n",
    "            left += 1\n",
    "            right -= 1\n",
    "\n",
    "    return arr\n",
    "\n",
    "binary_array = [0, 1, 0, 1, 1, 0, 0, 1]\n",
    "segregated_array = segregate_zeros_and_ones(binary_array)\n",
    "print(\"Segregated array:\", segregated_array)\n"
   ]
  },
  {
   "cell_type": "code",
   "execution_count": 12,
   "id": "74567331",
   "metadata": {},
   "outputs": [
    {
     "name": "stdout",
     "output_type": "stream",
     "text": [
      "Total count of inversions: 8\n"
     ]
    }
   ],
   "source": [
    "#5.Write a program to implement inversion count.\n",
    "def merge(arr, left, mid, right):\n",
    "    left_part = arr[left:mid + 1]\n",
    "    right_part = arr[mid + 1:right + 1]\n",
    "\n",
    "    inversions = 0\n",
    "    i = j = 0\n",
    "    k = left\n",
    "\n",
    "    while i < len(left_part) and j < len(right_part):\n",
    "        if left_part[i] <= right_part[j]:\n",
    "            arr[k] = left_part[i]\n",
    "            i += 1\n",
    "        else:\n",
    "            arr[k] = right_part[j]\n",
    "            j += 1\n",
    "            inversions += (mid - left + 1) - i\n",
    "        k += 1\n",
    "\n",
    "    while i < len(left_part):\n",
    "        arr[k] = left_part[i]\n",
    "        i += 1\n",
    "        k += 1\n",
    "\n",
    "    while j < len(right_part):\n",
    "        arr[k] = right_part[j]\n",
    "        j += 1\n",
    "        k += 1\n",
    "\n",
    "    return inversions\n",
    "\n",
    "def merge_sort(arr, left, right):\n",
    "    inversions = 0\n",
    "    if left < right:\n",
    "        mid = (left + right) // 2\n",
    "        inversions += merge_sort(arr, left, mid)\n",
    "        inversions += merge_sort(arr, mid + 1, right)\n",
    "        inversions += merge(arr, left, mid, right)\n",
    "    return inversions\n",
    "\n",
    "def inversion_count(arr):\n",
    "    return merge_sort(arr, 0, len(arr) - 1)\n",
    "\n",
    "A = [10, 1, 2, 4, 13, 9, 5]\n",
    "count = inversion_count(A)\n",
    "print(\"Total count of inversions:\", count)\n"
   ]
  },
  {
   "cell_type": "code",
   "execution_count": 13,
   "id": "98bb3504",
   "metadata": {},
   "outputs": [
    {
     "name": "stdout",
     "output_type": "stream",
     "text": [
      "Result using O(n^2) algorithm: True\n",
      "Result using O(n log n) algorithm: True\n"
     ]
    }
   ],
   "source": [
    "'''An array contains N numbers, and you want to determine whether two of the numbers sum\n",
    "to a given number K. For example, if the input is 8, 4, 1, 6 and K is 10, the answer is yes\n",
    "(4 and 6). A number may be used twice.\n",
    "a. Give an 𝑂(𝑛\n",
    "2\n",
    ") algorithm to solve this problem.\n",
    "b. Give an 𝑂(𝑛𝑙𝑜𝑔𝑛) algorithm to solve this problem.\n",
    "(Hint: first sort the array and then solve the problem in linear time)'''\n",
    "\n",
    "def two_sum_brute_force(arr, target):\n",
    "    n = len(arr)\n",
    "    for i in range(n):\n",
    "        for j in range(i + 1, n):\n",
    "            if arr[i] + arr[j] == target:\n",
    "                return True\n",
    "    return False\n",
    "\n",
    "arr = [8, 4, 1, 6]\n",
    "target = 10\n",
    "result = two_sum_brute_force(arr, target)\n",
    "print(\"Result using O(n^2) algorithm:\", result)\n",
    "\n",
    "\n",
    "def two_sum_linear(arr, target):\n",
    "    arr.sort()  # Sort the array in O(n log n) time\n",
    "\n",
    "    left = 0\n",
    "    right = len(arr) - 1\n",
    "\n",
    "    while left < right:\n",
    "        current_sum = arr[left] + arr[right]\n",
    "        if current_sum == target:\n",
    "            return True\n",
    "        elif current_sum < target:\n",
    "            left += 1\n",
    "        else:\n",
    "            right -= 1\n",
    "\n",
    "    return False\n",
    "\n",
    "# Example usage:\n",
    "arr = [8, 4, 1, 6]\n",
    "target = 10\n",
    "result = two_sum_linear(arr, target)\n",
    "print(\"Result using O(n log n) algorithm:\", result)\n"
   ]
  },
  {
   "cell_type": "code",
   "execution_count": null,
   "id": "3e1011e7",
   "metadata": {},
   "outputs": [],
   "source": []
  }
 ],
 "metadata": {
  "kernelspec": {
   "display_name": "Python 3 (ipykernel)",
   "language": "python",
   "name": "python3"
  },
  "language_info": {
   "codemirror_mode": {
    "name": "ipython",
    "version": 3
   },
   "file_extension": ".py",
   "mimetype": "text/x-python",
   "name": "python",
   "nbconvert_exporter": "python",
   "pygments_lexer": "ipython3",
   "version": "3.11.4"
  }
 },
 "nbformat": 4,
 "nbformat_minor": 5
}
