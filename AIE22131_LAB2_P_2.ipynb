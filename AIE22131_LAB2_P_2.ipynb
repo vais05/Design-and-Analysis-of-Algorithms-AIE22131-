{
 "cells": [
  {
   "cell_type": "code",
   "execution_count": 9,
   "id": "initial_id",
   "metadata": {
    "collapsed": true,
    "ExecuteTime": {
     "end_time": "2024-03-31T19:12:14.215551600Z",
     "start_time": "2024-03-31T19:12:14.002622400Z"
    }
   },
   "outputs": [
    {
     "data": {
      "text/plain": "<Figure size 640x480 with 1 Axes>",
      "image/png": "[encoded data removed]"
     },
     "metadata": {},
     "output_type": "display_data"
    }
   ],
   "source": [
    "# question 1\n",
    "import random\n",
    "import time\n",
    "import matplotlib.pyplot as plt\n",
    "\n",
    "# Generate 1000 random numbers between 1 and 10000\n",
    "random_numbers = [random.randint(1, 10000) for _ in range(1000)]\n",
    "\n",
    "# Define the sorting algorithms to compare\n",
    "def bubble_sort(arr):\n",
    "    n = len(arr)\n",
    "    for i in range(n):\n",
    "        for j in range(0, n-i-1):\n",
    "            if arr[j] > arr[j+1]:\n",
    "                arr[j], arr[j+1] = arr[j+1], arr[j]\n",
    "    return arr\n",
    "\n",
    "def selection_sort(arr):\n",
    "    n = len(arr)\n",
    "    for i in range(n):\n",
    "        min_idx = i\n",
    "        for j in range(i+1, n):\n",
    "            if arr[j] < arr[min_idx]:\n",
    "                min_idx = j\n",
    "        arr[i], arr[min_idx] = arr[min_idx], arr[i]\n",
    "    return arr\n",
    "\n",
    "def insertion_sort(arr):\n",
    "    n = len(arr)\n",
    "    for i in range(1, n):\n",
    "        key = arr[i]\n",
    "        j = i - 1\n",
    "        while j >= 0 and key < arr[j]:\n",
    "            arr[j + 1] = arr[j]\n",
    "            j -= 1\n",
    "        arr[j + 1] = key\n",
    "    return arr\n",
    "\n",
    "# Measure the time taken for each sorting algorithm\n",
    "start_time = time.time()\n",
    "sorted_numbers_bubble = bubble_sort(random_numbers.copy())\n",
    "bubble_sort_time = time.time() - start_time\n",
    "\n",
    "start_time = time.time()\n",
    "sorted_numbers_selection = selection_sort(random_numbers.copy())\n",
    "selection_sort_time = time.time() - start_time\n",
    "\n",
    "start_time = time.time()\n",
    "sorted_numbers_insertion = insertion_sort(random_numbers.copy())\n",
    "insertion_sort_time = time.time() - start_time\n",
    "\n",
    "# Plot the time taken for each sorting algorithm\n",
    "plt.bar(['Bubble Sort', 'Selection Sort', 'Insertion Sort'], [bubble_sort_time, selection_sort_time, insertion_sort_time])\n",
    "plt.ylabel('Time (s)')\n",
    "plt.title('Comparison of Sorting Algorithms')\n",
    "plt.show()"
   ]
  },
  {
   "cell_type": "code",
   "execution_count": 10,
   "outputs": [
    {
     "name": "stdout",
     "output_type": "stream",
     "text": [
      "[10, 15, 20, 25, 27, 29, 30, 32, 33, 35, 37, 40, 48, 93]\n"
     ]
    }
   ],
   "source": [
    "# question 2\n",
    "import heapq\n",
    "\n",
    "# Input sorted lists\n",
    "lists = [\n",
    "    [10, 20, 30, 40],\n",
    "    [15, 25, 35],\n",
    "    [27, 29, 37, 48, 93],\n",
    "    [32, 33]\n",
    "]\n",
    "\n",
    "# Initialize an empty heap and output list\n",
    "heap = []\n",
    "output = []\n",
    "\n",
    "# Initialize an index for each list to keep track of the current element\n",
    "index = [0] * len(lists)\n",
    "\n",
    "# Push the first element from each list into the heap\n",
    "for i, l in enumerate(lists):\n",
    "    if index[i] < len(l):\n",
    "        heapq.heappush(heap, (l[index[i]], i))\n",
    "\n",
    "# Merge the lists\n",
    "while heap:\n",
    "    val, list_index = heapq.heappop(heap)\n",
    "    output.append(val)\n",
    "    index[list_index] += 1\n",
    "    if index[list_index] < len(lists[list_index]):\n",
    "        heapq.heappush(heap, (lists[list_index][index[list_index]], list_index))\n",
    "\n",
    "# Print the merged list\n",
    "print(output)"
   ],
   "metadata": {
    "collapsed": false,
    "ExecuteTime": {
     "end_time": "2024-03-31T19:12:14.217535700Z",
     "start_time": "2024-03-31T19:12:14.211989700Z"
    }
   },
   "id": "228899e64c22f703"
  },
  {
   "cell_type": "code",
   "execution_count": 11,
   "outputs": [
    {
     "name": "stdout",
     "output_type": "stream",
     "text": [
      "[10, 20, 15]\n"
     ]
    }
   ],
   "source": [
    "# question 3\n",
    "import heapq\n",
    "\n",
    "def find_k_largest_elements(arr, k):\n",
    "    # Use a min-heap to keep track of the K largest elements\n",
    "    heap = []\n",
    "    \n",
    "    # Iterate over the array\n",
    "    for num in arr:\n",
    "        # If heap has fewer than K elements, add the current element\n",
    "        if len(heap) < k:\n",
    "            heapq.heappush(heap, num)\n",
    "        else:\n",
    "            # If the current element is larger than the smallest element in the heap\n",
    "            # Replace the smallest element with the current element\n",
    "            if num > heap[0]:\n",
    "                heapq.heappop(heap)\n",
    "                heapq.heappush(heap, num)\n",
    "    \n",
    "    # Return the K largest elements in the heap\n",
    "    return heap\n",
    "\n",
    "# Example usage\n",
    "arr = [7, 10, 4, 3, 20, 15]\n",
    "k = 3\n",
    "result = find_k_largest_elements(arr, k)\n",
    "print(result)\n"
   ],
   "metadata": {
    "collapsed": false,
    "ExecuteTime": {
     "end_time": "2024-03-31T19:12:14.227667900Z",
     "start_time": "2024-03-31T19:12:14.220016100Z"
    }
   },
   "id": "438cd37c8f29784b"
  },
  {
   "cell_type": "code",
   "execution_count": 12,
   "outputs": [
    {
     "name": "stdout",
     "output_type": "stream",
     "text": [
      "4\n"
     ]
    }
   ],
   "source": [
    " # question 4\n",
    "def max_activities(activities):\n",
    "    # Sort activities by finishing time\n",
    "    activities.sort(key=lambda x: x[1])\n",
    "    \n",
    "    # Initialize variables\n",
    "    prev_finish_time = 0\n",
    "    max_activities_count = 0\n",
    "    \n",
    "    # Iterate over activities\n",
    "    for activity in activities:\n",
    "        start_time, finish_time = activity\n",
    "        # If the current activity can be performed\n",
    "        if start_time >= prev_finish_time:\n",
    "            max_activities_count += 1\n",
    "            prev_finish_time = finish_time\n",
    "    \n",
    "    return max_activities_count\n",
    "\n",
    "# Example usage\n",
    "activities = [(1, 2), (3, 4), (0, 6), (5, 7), (8, 9), (5, 9)]\n",
    "print(max_activities(activities))"
   ],
   "metadata": {
    "collapsed": false,
    "ExecuteTime": {
     "end_time": "2024-03-31T19:12:14.235693500Z",
     "start_time": "2024-03-31T19:12:14.225983Z"
    }
   },
   "id": "8f99454cce163ec0"
  },
  {
   "cell_type": "code",
   "execution_count": 13,
   "outputs": [
    {
     "name": "stdout",
     "output_type": "stream",
     "text": [
      "[(1, 5), (6, 9)]\n"
     ]
    }
   ],
   "source": [
    "# question 5\n",
    "def merge_intervals(intervals):\n",
    "    # Sort intervals based on start time\n",
    "    intervals.sort(key=lambda x: x[0])\n",
    "    \n",
    "    # Initialize an empty stack\n",
    "    stack = []\n",
    "    \n",
    "    # Push the first interval onto the stack\n",
    "    stack.append(intervals[0])\n",
    "    \n",
    "    # Merge overlapping intervals\n",
    "    for interval in intervals[1:]:\n",
    "        if interval[0] <= stack[-1][1]:\n",
    "            # Merge intervals\n",
    "            stack[-1] = (stack[-1][0], max(stack[-1][1], interval[1]))\n",
    "        else:\n",
    "            # Push non-overlapping interval onto the stack\n",
    "            stack.append(interval)\n",
    "    \n",
    "    return stack\n",
    "\n",
    "# Example usage\n",
    "intervals = [(1, 4), (2, 5), (7, 8), (6, 9)]\n",
    "merged_intervals = merge_intervals(intervals)\n",
    "print(merged_intervals)"
   ],
   "metadata": {
    "collapsed": false,
    "ExecuteTime": {
     "end_time": "2024-03-31T19:12:14.241147600Z",
     "start_time": "2024-03-31T19:12:14.233622400Z"
    }
   },
   "id": "d58baf2e91770572"
  },
  {
   "cell_type": "markdown",
   "source": [],
   "metadata": {
    "collapsed": false
   },
   "id": "3195168baf54df1"
  }
 ],
 "metadata": {
  "kernelspec": {
   "display_name": "Python 3",
   "language": "python",
   "name": "python3"
  },
  "language_info": {
   "codemirror_mode": {
    "name": "ipython",
    "version": 2
   },
   "file_extension": ".py",
   "mimetype": "text/x-python",
   "name": "python",
   "nbconvert_exporter": "python",
   "pygments_lexer": "ipython2",
   "version": "2.7.6"
  }
 },
 "nbformat": 4,
 "nbformat_minor": 5
}
